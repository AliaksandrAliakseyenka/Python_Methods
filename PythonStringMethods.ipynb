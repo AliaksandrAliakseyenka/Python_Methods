{
 "cells": [
  {
   "cell_type": "code",
   "execution_count": 1,
   "id": "4f6d04fa",
   "metadata": {},
   "outputs": [
    {
     "name": "stdout",
     "output_type": "stream",
     "text": [
      "Sasha\n"
     ]
    }
   ],
   "source": [
    "# capitalize\n",
    "# convert first character to upper case and rest lowercase\n",
    "name = \"saSHa\"\n",
    "name_new = name.capitalize()\n",
    "print(name_new)"
   ]
  },
  {
   "cell_type": "code",
   "execution_count": 1,
   "id": "179ebd40",
   "metadata": {},
   "outputs": [
    {
     "name": "stdout",
     "output_type": "stream",
     "text": [
      "what are you doing?\n"
     ]
    }
   ],
   "source": [
    "# casefold\n",
    "# convert string to lower case.More aggresive that lower()\n",
    "txt =\"whaT are you doing?\"\n",
    "txt_new = txt.casefold()\n",
    "print(txt_new)"
   ]
  },
  {
   "cell_type": "code",
   "execution_count": 32,
   "id": "e579996a",
   "metadata": {},
   "outputs": [
    {
     "name": "stdout",
     "output_type": "stream",
     "text": [
      "________alex________\n"
     ]
    }
   ],
   "source": [
    "# center\n",
    "# returns centred string using optional value as fill character.Space(\"\") is default\n",
    "x = \"alex\"\n",
    "x_center = x.center(20, \"_\")\n",
    "print(x_center)"
   ]
  },
  {
   "cell_type": "code",
   "execution_count": 2,
   "id": "66ff7926",
   "metadata": {},
   "outputs": [
    {
     "name": "stdout",
     "output_type": "stream",
     "text": [
      "1\n"
     ]
    }
   ],
   "source": [
    "# count\n",
    "# return no of times value is in string.Optional parameters specify where to search in string\n",
    "hobby = \"iPhone\"\n",
    "hobby_count = hobby.count('i')\n",
    "print(hobby_count)"
   ]
  },
  {
   "cell_type": "code",
   "execution_count": 17,
   "id": "7f977dd5",
   "metadata": {},
   "outputs": [
    {
     "name": "stdout",
     "output_type": "stream",
     "text": [
      "b'password'\n"
     ]
    }
   ],
   "source": [
    "# encode\n",
    "txt = 'password'\n",
    "ecnode_txt = txt.encode('utf-8','ignore')\n",
    "print(ecnode_txt)"
   ]
  },
  {
   "cell_type": "code",
   "execution_count": 18,
   "id": "120e64d3",
   "metadata": {},
   "outputs": [
    {
     "data": {
      "text/plain": [
       "True"
      ]
     },
     "execution_count": 18,
     "metadata": {},
     "output_type": "execute_result"
    }
   ],
   "source": [
    "# endswith\n",
    "# return true if string ends with value\n",
    "# Метод str.endswith() возвращает True, если строка str заканчивается указанным суффиксом suffix, в противном случае возвращает False.\n",
    "x_endswith = \"python\"\n",
    "check_x_endswith = x_endswith.endswith('hon')\n",
    "check_x_endswith"
   ]
  },
  {
   "cell_type": "code",
   "execution_count": 20,
   "id": "fbeb4c42",
   "metadata": {},
   "outputs": [
    {
     "name": "stdout",
     "output_type": "stream",
     "text": [
      "H\tT\tM\tL\n",
      "H T M L\n"
     ]
    }
   ],
   "source": [
    "# expandtabs\n",
    "# set tab size of string to specifed numbers of whitespaces.Dafault is 8\n",
    "txt = \"H\\tT\\tM\\tL\"\n",
    "# Dafault is 8\n",
    "print(txt)\n",
    "expandtabs_txt = txt.expandtabs(2)\n",
    "print(expandtabs_txt)"
   ]
  },
  {
   "cell_type": "code",
   "execution_count": 24,
   "id": "ba6e5751",
   "metadata": {},
   "outputs": [
    {
     "data": {
      "text/plain": [
       "0"
      ]
     },
     "execution_count": 24,
     "metadata": {},
     "output_type": "execute_result"
    }
   ],
   "source": [
    "# find\n",
    "show = \"Метод 'find()' используется для поиска в строке\"\n",
    "show_find  = show.find('М')\n",
    "# Метод возвращает индекс символа, с которого начинается искомая строка\n",
    "show_find\n",
    "# - 1 совпадений нет "
   ]
  },
  {
   "cell_type": "code",
   "execution_count": 28,
   "id": "24b301ba",
   "metadata": {},
   "outputs": [
    {
     "name": "stdout",
     "output_type": "stream",
     "text": [
      "i python like!!\n"
     ]
    }
   ],
   "source": [
    "# format\n",
    "x = 'python'\n",
    "y = 'like'\n",
    "say = 'i {0} {1}!!'.format(x,y)\n",
    "say = 'i {x} {y}!!'.format(x = 'python',y = 'like')\n",
    "say = 'i {} {y}!!'.format('python',y = 'like')\n",
    "say = 'i {} {}!!'.format(x,y)\n",
    "print(say)\n"
   ]
  },
  {
   "cell_type": "code",
   "execution_count": 30,
   "id": "8f6c1b43",
   "metadata": {},
   "outputs": [
    {
     "data": {
      "text/plain": [
       "'I like Python'"
      ]
     },
     "execution_count": 30,
     "metadata": {},
     "output_type": "execute_result"
    }
   ],
   "source": [
    "# format_map\n",
    "kv = {'a':'Python', 'b':'like'}\n",
    "type(kv)\n",
    "x = \"I {b} {a}\".format_map(kv)\n",
    "x"
   ]
  },
  {
   "cell_type": "code",
   "execution_count": 33,
   "id": "48fc6628",
   "metadata": {},
   "outputs": [
    {
     "data": {
      "text/plain": [
       "4"
      ]
     },
     "execution_count": 33,
     "metadata": {},
     "output_type": "execute_result"
    }
   ],
   "source": [
    "# index\n",
    "# return position of value if found in string\n",
    "txt = \"hello python\"\n",
    "txt_index = txt.index('o')\n",
    "txt_index"
   ]
  },
  {
   "cell_type": "code",
   "execution_count": 34,
   "id": "44bfb56c",
   "metadata": {},
   "outputs": [
    {
     "data": {
      "text/plain": [
       "True"
      ]
     },
     "execution_count": 34,
     "metadata": {},
     "output_type": "execute_result"
    }
   ],
   "source": [
    "# isalnum\n",
    "# return true if all string characters are alphanumeric\n",
    "best_game = \"Cyberpynk2077\"\n",
    "isalnum_show = best_game.isalnum()\n",
    "isalnum_show"
   ]
  },
  {
   "cell_type": "code",
   "execution_count": 38,
   "id": "f49d95ef",
   "metadata": {},
   "outputs": [
    {
     "data": {
      "text/plain": [
       "False"
      ]
     },
     "execution_count": 38,
     "metadata": {},
     "output_type": "execute_result"
    }
   ],
   "source": [
    "# isalpha\n",
    "# return true if all string characters are in alpabet\n",
    "name = ('AA20')\n",
    "is_alpha = name.isalpha()\n",
    "is_alpha"
   ]
  },
  {
   "cell_type": "code",
   "execution_count": 39,
   "id": "76398630",
   "metadata": {},
   "outputs": [
    {
     "data": {
      "text/plain": [
       "True"
      ]
     },
     "execution_count": 39,
     "metadata": {},
     "output_type": "execute_result"
    }
   ],
   "source": [
    "# isascii\n",
    "# return true if all string characters are ascii\n",
    "best_game = \"Cyberpynk2077\"\n",
    "is_ascii = best_game.isascii()\n",
    "is_ascii"
   ]
  },
  {
   "cell_type": "code",
   "execution_count": 40,
   "id": "9646f281",
   "metadata": {},
   "outputs": [
    {
     "data": {
      "text/plain": [
       "True"
      ]
     },
     "execution_count": 40,
     "metadata": {},
     "output_type": "execute_result"
    }
   ],
   "source": [
    "# isdecimal\n",
    "txt = \"s\"\n",
    "x = txt.isdecimal()\n",
    "x"
   ]
  },
  {
   "cell_type": "code",
   "execution_count": 41,
   "id": "e7e9260a",
   "metadata": {},
   "outputs": [
    {
     "data": {
      "text/plain": [
       "True"
      ]
     },
     "execution_count": 41,
     "metadata": {},
     "output_type": "execute_result"
    }
   ],
   "source": [
    "#isdigit\n",
    "#return true if all string characters are digits\n",
    "value = \"100\"\n",
    "is_digit = value.isdigit()\n",
    "is_digit"
   ]
  },
  {
   "cell_type": "code",
   "execution_count": 45,
   "id": "0fee190c",
   "metadata": {},
   "outputs": [
    {
     "data": {
      "text/plain": [
       "False"
      ]
     },
     "execution_count": 45,
     "metadata": {},
     "output_type": "execute_result"
    }
   ],
   "source": [
    "# isidentifier\n",
    "best_game = \"2077Cyberpynk\"\n",
    "is_identifier = best_game.isidentifier()\n",
    "is_identifier"
   ]
  },
  {
   "cell_type": "code",
   "execution_count": 47,
   "id": "0c696806",
   "metadata": {},
   "outputs": [
    {
     "data": {
      "text/plain": [
       "False"
      ]
     },
     "execution_count": 47,
     "metadata": {},
     "output_type": "execute_result"
    }
   ],
   "source": [
    "# isnumeric\n",
    "txt = \"a\"\n",
    "is_numeric = txt.isnumeric()\n",
    "is_numeric"
   ]
  },
  {
   "cell_type": "code",
   "execution_count": 3,
   "id": "7125ce7c",
   "metadata": {},
   "outputs": [
    {
     "data": {
      "text/plain": [
       "False"
      ]
     },
     "execution_count": 3,
     "metadata": {},
     "output_type": "execute_result"
    }
   ],
   "source": [
    "# isprintable\n",
    "# Истинно, если строка пуста или все символы в строке печатаются.\n",
    "# False, если строка содержит хотя бы один непечатаемый символ.\n",
    "txt = 'hey \\nmy name is alex'\n",
    "is_printable = txt.isprintable()\n",
    "is_printable"
   ]
  },
  {
   "cell_type": "code",
   "execution_count": 5,
   "id": "bb34597d",
   "metadata": {},
   "outputs": [
    {
     "data": {
      "text/plain": [
       "True"
      ]
     },
     "execution_count": 5,
     "metadata": {},
     "output_type": "execute_result"
    }
   ],
   "source": [
    "# islower\n",
    "# Истинно, если все алфавиты, существующие в строке, являются строчными.\n",
    "# False, если строка содержит хотя бы один алфавит в верхнем регистре\n",
    "txt = \"alex\"\n",
    "is_lower = txt.islower()\n",
    "is_lower"
   ]
  },
  {
   "cell_type": "code",
   "execution_count": 10,
   "id": "23560aba",
   "metadata": {},
   "outputs": [
    {
     "data": {
      "text/plain": [
       "True"
      ]
     },
     "execution_count": 10,
     "metadata": {},
     "output_type": "execute_result"
    }
   ],
   "source": [
    "# isspace\n",
    "# isspace() в Python. Метод isspace() возвращает True,\n",
    "# если в строке есть только пробельные символы\n",
    "txt = \"    \"\n",
    "is_space = txt.isspace()\n",
    "is_space"
   ]
  },
  {
   "cell_type": "code",
   "execution_count": 16,
   "id": "f9fa4e6c",
   "metadata": {},
   "outputs": [
    {
     "name": "stdout",
     "output_type": "stream",
     "text": [
      "True\n",
      "False\n"
     ]
    }
   ],
   "source": [
    "# istitle\n",
    "# Возвращает флаг, указывающий на то,\n",
    "# начинается ли каждое из «слов» строки с заглавной буквы.\n",
    "txt = \"I Like Learn Python\"\n",
    "txt_ = \"I like learn python\"\n",
    "is_title = txt.istitle()\n",
    "is_title_ = txt_.istitle()\n",
    "print(is_title)\n",
    "print(is_title_)"
   ]
  },
  {
   "cell_type": "code",
   "execution_count": 19,
   "id": "5bb4461a",
   "metadata": {},
   "outputs": [
    {
     "data": {
      "text/plain": [
       "True"
      ]
     },
     "execution_count": 19,
     "metadata": {},
     "output_type": "execute_result"
    }
   ],
   "source": [
    "# isupper\n",
    "# Вернёт True, если все символы строки поддерживающие приведение\n",
    "# к регистру приведены к верхнему, иначе — False.\n",
    "txt = \"UPPER SHOW\"\n",
    "is_upper = txt.isupper()\n",
    "is_upper"
   ]
  },
  {
   "cell_type": "code",
   "execution_count": 31,
   "id": "96824b74",
   "metadata": {},
   "outputs": [
    {
     "data": {
      "text/plain": [
       "'FBI'"
      ]
     },
     "execution_count": 31,
     "metadata": {},
     "output_type": "execute_result"
    }
   ],
   "source": [
    "# join\n",
    "# Метод join в Python отвечает за объединение\n",
    "# списка строк с помощью определенного указателя. \n",
    "txt = (\"F\",\"B\",\"I\")\n",
    "txt_join = \"\".join(txt)\n",
    "txt_join"
   ]
  },
  {
   "cell_type": "code",
   "execution_count": 44,
   "id": "f1ffc038",
   "metadata": {},
   "outputs": [
    {
     "name": "stdout",
     "output_type": "stream",
     "text": [
      "текст выравнивается по левому краю......\n",
      "текст выравнивается по левому краю*\n",
      "текст выравнивается по левому краю******************************************************************************************************************************************************************************************************************************************************************************************************************\n"
     ]
    }
   ],
   "source": [
    "# ljust\n",
    "x = 'текст выравнивается по левому краю'\n",
    "# Без заполнителя `fillchar`\n",
    "a = x.ljust(40,\".\")\n",
    "# 'с текстом, выровненным по левому краю                    '\n",
    "b = x.ljust(len(x)+1, '*')\n",
    "# 'текст выравнивается по левому краю********************'\n",
    "# Ширина `width` меньше длины центрируемой строки\n",
    "c = x.ljust(len(x)*10, '*')\n",
    "# 'текст выравнивается по левому краю'\n",
    "print(a)\n",
    "print(b)\n",
    "print(c)"
   ]
  },
  {
   "cell_type": "code",
   "execution_count": 45,
   "id": "472f44fd",
   "metadata": {},
   "outputs": [
    {
     "data": {
      "text/plain": [
       "'asdsfdlsfsfs'"
      ]
     },
     "execution_count": 45,
     "metadata": {},
     "output_type": "execute_result"
    }
   ],
   "source": [
    "# lower\n",
    "# это строковый метод, который возвращает новую строку полностью в нижнем регистре\n",
    "txt = \"ASDSFDLSFSFS\"\n",
    "txt_lower = txt.lower()\n",
    "txt_lower"
   ]
  },
  {
   "cell_type": "code",
   "execution_count": 47,
   "id": "2a9c92a2",
   "metadata": {},
   "outputs": [
    {
     "data": {
      "text/plain": [
       "'Hi alex    '"
      ]
     },
     "execution_count": 47,
     "metadata": {},
     "output_type": "execute_result"
    }
   ],
   "source": [
    "# lstrip\n",
    "# Команда удаляет символы слева на основе аргумента\n",
    "name = \"   alex    \"\n",
    "name_lstrip = \"Hi \" + name.lstrip()\n",
    "name_lstrip"
   ]
  },
  {
   "cell_type": "code",
   "execution_count": 51,
   "id": "f52b2494",
   "metadata": {},
   "outputs": [
    {
     "data": {
      "text/plain": [
       "{1072: '0',\n",
       " 1073: '1',\n",
       " 1074: '2',\n",
       " 1075: '3',\n",
       " 1076: '4',\n",
       " 1077: '5',\n",
       " 1080: '6',\n",
       " 1082: '7',\n",
       " 1083: '8',\n",
       " 1086: '9'}"
      ]
     },
     "execution_count": 51,
     "metadata": {},
     "output_type": "execute_result"
    }
   ],
   "source": [
    "# maketran\n",
    "x = {'а': '0', 'б': '1', 'в': '2', 'г': '3', 'д': '4', \n",
    "        'е': '5', 'и': '6', 'к': '7', 'л': '8', 'о': '9'}\n",
    "str_ = 'таблицу преобразования символов'\n",
    "tbl = str_.maketrans(x)\n",
    "str.maketrans(tbl)"
   ]
  },
  {
   "cell_type": "code",
   "execution_count": 64,
   "id": "21304e96",
   "metadata": {},
   "outputs": [
    {
     "data": {
      "text/plain": [
       "('разбивает строку при первом появлении ', 'строки', ' аргумента')"
      ]
     },
     "execution_count": 64,
     "metadata": {},
     "output_type": "execute_result"
    }
   ],
   "source": [
    "# partition\n",
    "# Метод partition() разбивает строку при первом появлении строки аргумента\n",
    "# и возвращает кортеж, содержащий часть перед разделителем, строку аргумента\n",
    "# и часть после разделителя.\n",
    "txt = \"разбивает строку при первом появлении строки аргумента\"\n",
    "txt_partition = txt.partition(\"строки\")\n",
    "txt_partition"
   ]
  },
  {
   "cell_type": "code",
   "execution_count": 53,
   "id": "ff7da0c5",
   "metadata": {},
   "outputs": [
    {
     "data": {
      "text/plain": [
       "'22 20 45'"
      ]
     },
     "execution_count": 53,
     "metadata": {},
     "output_type": "execute_result"
    }
   ],
   "source": [
    "# replace\n",
    "txt = \"12 20 45\"\n",
    "replace_txt = txt.replace(\"12\", \"22\")\n",
    "replace_txt"
   ]
  },
  {
   "cell_type": "code",
   "execution_count": 57,
   "id": "62298e74",
   "metadata": {},
   "outputs": [
    {
     "name": "stdout",
     "output_type": "stream",
     "text": [
      "17\n",
      "ьший\n"
     ]
    }
   ],
   "source": [
    "# rfind\n",
    "# Возвращает наибольший индекс, по которому\n",
    "# обнаруживается конец указанной подстроки в исходной\n",
    "txt = \"Возвращает наибольший индекс\"\n",
    "r_find = txt.rfind(\"ьший\")\n",
    "print(r_find)\n",
    "print(txt[17:21])"
   ]
  },
  {
   "cell_type": "code",
   "execution_count": 58,
   "id": "3c69c3a0",
   "metadata": {},
   "outputs": [
    {
     "name": "stdout",
     "output_type": "stream",
     "text": [
      "17\n",
      "ьший\n"
     ]
    }
   ],
   "source": [
    "# rindex\n",
    "# Возвращает индекс наибольший индекс конца подстроки\n",
    "txt = \"Возвращает наибольший индекс\"\n",
    "r_find = txt.rfind(\"ьший\")\n",
    "print(r_find)\n",
    "print(txt[17:21])\n"
   ]
  },
  {
   "cell_type": "code",
   "execution_count": 61,
   "id": "e5745f26",
   "metadata": {},
   "outputs": [
    {
     "data": {
      "text/plain": [
       "'--------------python'"
      ]
     },
     "execution_count": 61,
     "metadata": {},
     "output_type": "execute_result"
    }
   ],
   "source": [
    "# rjust\n",
    "txt = \"python\"\n",
    "r_just = txt.rjust(20,\"-\")\n",
    "r_just"
   ]
  },
  {
   "cell_type": "code",
   "execution_count": 63,
   "id": "e45b2e01",
   "metadata": {},
   "outputs": [
    {
     "data": {
      "text/plain": [
       "('разбивает строку при первом появлении ', 'строки', ' аргумента')"
      ]
     },
     "execution_count": 63,
     "metadata": {},
     "output_type": "execute_result"
    }
   ],
   "source": [
    "# rpartition\n",
    "# разбивает строку в последнем вхождении строки аргумента и возвращает кортеж, содержащий часть перед разделителем,\n",
    "# строку аргумента и часть после разделителя\n",
    "txt = \"разбивает строку при первом появлении строки аргумента\"\n",
    "txt_rpartition = txt.rpartition(\"строки\")\n",
    "txt_rpartition"
   ]
  },
  {
   "cell_type": "code",
   "execution_count": 78,
   "id": "dbc9ee61",
   "metadata": {},
   "outputs": [
    {
     "name": "stdout",
     "output_type": "stream",
     "text": [
      "3\n",
      "['no! no! no', 'no', 'no!']\n"
     ]
    }
   ],
   "source": [
    "# rsplit\n",
    "txt = \"no! no! no! no! no!\"\n",
    "r_split = txt.rsplit(\"! \", 2)\n",
    "print(len(r_split))\n",
    "print(r_split)"
   ]
  },
  {
   "cell_type": "code",
   "execution_count": 79,
   "id": "4a2e0000",
   "metadata": {},
   "outputs": [
    {
     "data": {
      "text/plain": [
       "'Hi    alex'"
      ]
     },
     "execution_count": 79,
     "metadata": {},
     "output_type": "execute_result"
    }
   ],
   "source": [
    "# rstrip\n",
    "# Команда удаляет символы rigtht на основе аргумента\n",
    "name = \"   alex    \"\n",
    "name_rstrip = \"Hi \" + name.rstrip()\n",
    "name_rstrip"
   ]
  },
  {
   "cell_type": "code",
   "execution_count": 91,
   "id": "f10f3533",
   "metadata": {},
   "outputs": [
    {
     "name": "stdout",
     "output_type": "stream",
     "text": [
      "6\n",
      "['noe', ' no', ' no', ' no', ' no', '']\n"
     ]
    }
   ],
   "source": [
    "# split\n",
    "txt = \"noe! no! no! no! no!\"\n",
    "txt_split = txt.split(\"!\")\n",
    "print(len(txt_split))\n",
    "print(txt_split)"
   ]
  },
  {
   "cell_type": "code",
   "execution_count": 92,
   "id": "de327642",
   "metadata": {},
   "outputs": [
    {
     "data": {
      "text/plain": [
       "['12 \\n', ' 14 \\n', ' 15']"
      ]
     },
     "execution_count": 92,
     "metadata": {},
     "output_type": "execute_result"
    }
   ],
   "source": [
    "# splitlines\n",
    "txt = \"12 \\n 14 \\n 15\"\n",
    "split_lines = txt.splitlines(True)\n",
    "split_lines.stip(\\n)\n",
    "print()"
   ]
  },
  {
   "cell_type": "code",
   "execution_count": 1,
   "id": "99594597",
   "metadata": {},
   "outputs": [
    {
     "data": {
      "text/plain": [
       "True"
      ]
     },
     "execution_count": 1,
     "metadata": {},
     "output_type": "execute_result"
    }
   ],
   "source": [
    "# startwith\n",
    "name = \"alex\"\n",
    "start_with = name.startswith('al')\n",
    "start_with"
   ]
  },
  {
   "cell_type": "code",
   "execution_count": 16,
   "id": "7a123b71",
   "metadata": {},
   "outputs": [
    {
     "name": "stdout",
     "output_type": "stream",
     "text": [
      "best pytnon !\n"
     ]
    }
   ],
   "source": [
    "# strip\n",
    "txt = \"   pytnon    \" \n",
    "strip_txt = txt.strip()\n",
    "print(\"best\",strip_txt,\"!\")"
   ]
  },
  {
   "cell_type": "code",
   "execution_count": 17,
   "id": "a8977451",
   "metadata": {},
   "outputs": [
    {
     "data": {
      "text/plain": [
       "'E.T apple'"
      ]
     },
     "execution_count": 17,
     "metadata": {},
     "output_type": "execute_result"
    }
   ],
   "source": [
    "# swapcase\n",
    "txt = \"e.t APPLE\"\n",
    "swapcase_ = txt.swapcase()\n",
    "swapcase_"
   ]
  },
  {
   "cell_type": "code",
   "execution_count": 18,
   "id": "306d4ffa",
   "metadata": {},
   "outputs": [
    {
     "data": {
      "text/plain": [
       "'Строку Аргумента И Часть После'"
      ]
     },
     "execution_count": 18,
     "metadata": {},
     "output_type": "execute_result"
    }
   ],
   "source": [
    "# title\n",
    "txt = \"строку аргумента и часть после\"\n",
    "title_txt = txt.title()\n",
    "title_txt"
   ]
  },
  {
   "cell_type": "code",
   "execution_count": 19,
   "id": "904aa4f9",
   "metadata": {},
   "outputs": [
    {
     "data": {
      "text/plain": [
       "'Pam'"
      ]
     },
     "execution_count": 19,
     "metadata": {},
     "output_type": "execute_result"
    }
   ],
   "source": [
    "# translate\n",
    "dict_ascii = {74:80, 105:97}\n",
    "dict_ascii_txt = \"Jim\".translate(dict_ascii)\n",
    "dict_ascii_txt"
   ]
  },
  {
   "cell_type": "code",
   "execution_count": 20,
   "id": "e4fbd7b4",
   "metadata": {},
   "outputs": [
    {
     "data": {
      "text/plain": [
       "'AABBCC'"
      ]
     },
     "execution_count": 20,
     "metadata": {},
     "output_type": "execute_result"
    }
   ],
   "source": [
    "# upper\n",
    "txt = \"aabbcc\"\n",
    "txt_upper = txt.upper()\n",
    "txt_upper"
   ]
  },
  {
   "cell_type": "code",
   "execution_count": 28,
   "id": "25c99b71",
   "metadata": {},
   "outputs": [
    {
     "data": {
      "text/plain": [
       "'00.125'"
      ]
     },
     "execution_count": 28,
     "metadata": {},
     "output_type": "execute_result"
    }
   ],
   "source": [
    "# zfill\n",
    "price = \"0.125\"\n",
    "price_fill = price.zfill(6)\n",
    "price_fill"
   ]
  },
  {
   "cell_type": "code",
   "execution_count": 29,
   "id": "a6e9df1e",
   "metadata": {},
   "outputs": [
    {
     "data": {
      "text/plain": [
       "'aksandr'"
      ]
     },
     "execution_count": 29,
     "metadata": {},
     "output_type": "execute_result"
    }
   ],
   "source": [
    "#removeprefix\n",
    "name = 'aliaksandr'\n",
    "removeprefix_name = name.removeprefix('ali')\n",
    "removeprefix_name"
   ]
  },
  {
   "cell_type": "code",
   "execution_count": 30,
   "id": "6df08b79",
   "metadata": {},
   "outputs": [
    {
     "data": {
      "text/plain": [
       "'aliaks'"
      ]
     },
     "execution_count": 30,
     "metadata": {},
     "output_type": "execute_result"
    }
   ],
   "source": [
    "# removesuffix\n",
    "name = 'aliaksandr'\n",
    "removesuffix_name = name.removesuffix('andr')\n",
    "removesuffix_name"
   ]
  }
 ],
 "metadata": {
  "kernelspec": {
   "display_name": "Python 3 (ipykernel)",
   "language": "python",
   "name": "python3"
  },
  "language_info": {
   "codemirror_mode": {
    "name": "ipython",
    "version": 3
   },
   "file_extension": ".py",
   "mimetype": "text/x-python",
   "name": "python",
   "nbconvert_exporter": "python",
   "pygments_lexer": "ipython3",
   "version": "3.11.1"
  }
 },
 "nbformat": 4,
 "nbformat_minor": 5
}
