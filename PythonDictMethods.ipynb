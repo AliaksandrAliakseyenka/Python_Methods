{
 "cells": [
  {
   "cell_type": "code",
   "execution_count": 1,
   "id": "9d6db277",
   "metadata": {},
   "outputs": [
    {
     "data": {
      "text/plain": [
       "{}"
      ]
     },
     "execution_count": 1,
     "metadata": {},
     "output_type": "execute_result"
    }
   ],
   "source": [
    "#clear\n",
    "#remove all elements from dict\n",
    "name = {'alex':20,'olga':21}\n",
    "name.clear()\n",
    "name"
   ]
  },
  {
   "cell_type": "code",
   "execution_count": 2,
   "id": "44d2c9d4",
   "metadata": {},
   "outputs": [
    {
     "data": {
      "text/plain": [
       "{'alex': 20, 'olga': 21}"
      ]
     },
     "execution_count": 2,
     "metadata": {},
     "output_type": "execute_result"
    }
   ],
   "source": [
    "#copy\n",
    "#return copy of dictionary\n",
    "name_first = {'alex':20,'olga':21}\n",
    "name_copy = name_first.copy()\n",
    "name_copy"
   ]
  },
  {
   "cell_type": "code",
   "execution_count": 2,
   "id": "0d532618",
   "metadata": {},
   "outputs": [
    {
     "name": "stdout",
     "output_type": "stream",
     "text": [
      "<class 'tuple'>\n"
     ]
    },
    {
     "data": {
      "text/plain": [
       "{'bob': 25, 'sara': 25, 'jimbo': 25}"
      ]
     },
     "execution_count": 2,
     "metadata": {},
     "output_type": "execute_result"
    }
   ],
   "source": [
    "#fromkeys\n",
    "#return dictionary with specified keys&values\n",
    "names = ('bob','sara','jimbo')\n",
    "print(type(names))\n",
    "age = 25\n",
    "info_users = dict.fromkeys(names,age)\n",
    "info_users"
   ]
  },
  {
   "cell_type": "code",
   "execution_count": 5,
   "id": "7863f87b",
   "metadata": {},
   "outputs": [
    {
     "data": {
      "text/plain": [
       "25"
      ]
     },
     "execution_count": 5,
     "metadata": {},
     "output_type": "execute_result"
    }
   ],
   "source": [
    "#get\n",
    "#return value of specified key\n",
    "info_users.get('bob')"
   ]
  },
  {
   "cell_type": "code",
   "execution_count": 4,
   "id": "2a855e99",
   "metadata": {},
   "outputs": [
    {
     "name": "stdout",
     "output_type": "stream",
     "text": [
      "<class 'dict_items'>\n"
     ]
    },
    {
     "data": {
      "text/plain": [
       "dict_items([('bob', 25), ('sara', 25), ('jimbo', 25)])"
      ]
     },
     "execution_count": 4,
     "metadata": {},
     "output_type": "execute_result"
    }
   ],
   "source": [
    "#items\n",
    "#return view object containing list of key value pairs\n",
    "check_type = info_users.items()\n",
    "print(type(check_type))\n",
    "info_users.items()"
   ]
  },
  {
   "cell_type": "code",
   "execution_count": 7,
   "id": "38f5a571",
   "metadata": {},
   "outputs": [
    {
     "data": {
      "text/plain": [
       "dict_keys(['bob', 'sara', 'jimbo'])"
      ]
     },
     "execution_count": 7,
     "metadata": {},
     "output_type": "execute_result"
    }
   ],
   "source": [
    "#keys\n",
    "#return view object containing list of keys\n",
    "info_users.keys()"
   ]
  },
  {
   "cell_type": "code",
   "execution_count": 19,
   "id": "1abfe6bf",
   "metadata": {},
   "outputs": [
    {
     "name": "stdout",
     "output_type": "stream",
     "text": [
      "25\n",
      "{'sara': 25, 'jimbo': 25}\n"
     ]
    }
   ],
   "source": [
    "#pop\n",
    "#remove elements with specified key and return it\n",
    "names = {'bob': 25, 'sara': 25, 'jimbo': 25}\n",
    "dict_pop = names.pop('bob')\n",
    "print(dict_pop)\n",
    "print(names)"
   ]
  },
  {
   "cell_type": "code",
   "execution_count": 12,
   "id": "1ed7bb02",
   "metadata": {},
   "outputs": [
    {
     "name": "stdout",
     "output_type": "stream",
     "text": [
      "{'bob': 25, 'sara': 25}\n",
      "('jimbo', 25)\n"
     ]
    }
   ],
   "source": [
    "#popitem\n",
    "#remove last inserted key value pair and return as tuple\n",
    "names = {'bob': 25, 'sara': 25, 'jimbo': 25}\n",
    "names\n",
    "x = names.popitem()\n",
    "print(names)\n",
    "print(x)\n"
   ]
  },
  {
   "cell_type": "code",
   "execution_count": 15,
   "id": "9c76cd16",
   "metadata": {},
   "outputs": [
    {
     "name": "stdout",
     "output_type": "stream",
     "text": [
      "{'bob': 25, 'sara': 25, 'jimbo': 25, 'sasha': 26}\n"
     ]
    }
   ],
   "source": [
    "# setdefault\n",
    "# #return value of iten with specified key.If key doesn't exits,\n",
    "# insert with specefied value\n",
    "names = {'bob': 25, 'sara': 25, 'jimbo': 25}\n",
    "x = names.setdefault('sasha', 26)\n",
    "print(names)"
   ]
  },
  {
   "cell_type": "code",
   "execution_count": 16,
   "id": "99eff9c7",
   "metadata": {},
   "outputs": [
    {
     "name": "stdout",
     "output_type": "stream",
     "text": [
      "{'bob': 25, 'sara': 25, 'jimbo': 25, 'alex': 32, 'tom': 30}\n"
     ]
    }
   ],
   "source": [
    "#update\n",
    "#update dictionary with specified key value pairs\n",
    "names = {'bob': 25, 'sara': 25, 'jimbo': 25}\n",
    "names.update({'alex':32,'tom':30})\n",
    "print(names)"
   ]
  },
  {
   "cell_type": "code",
   "execution_count": 17,
   "id": "0c3c6c6b",
   "metadata": {},
   "outputs": [
    {
     "name": "stdout",
     "output_type": "stream",
     "text": [
      "dict_values([25, 25, 25])\n"
     ]
    }
   ],
   "source": [
    "#values\n",
    "#return view objects containing list of values\n",
    "names = {'bob': 25, 'sara': 25, 'jimbo': 25}\n",
    "x = names.values()\n",
    "print(x)"
   ]
  }
 ],
 "metadata": {
  "kernelspec": {
   "display_name": "Python 3 (ipykernel)",
   "language": "python",
   "name": "python3"
  },
  "language_info": {
   "codemirror_mode": {
    "name": "ipython",
    "version": 3
   },
   "file_extension": ".py",
   "mimetype": "text/x-python",
   "name": "python",
   "nbconvert_exporter": "python",
   "pygments_lexer": "ipython3",
   "version": "3.11.1"
  }
 },
 "nbformat": 4,
 "nbformat_minor": 5
}
