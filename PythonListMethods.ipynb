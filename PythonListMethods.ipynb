{
 "cells": [
  {
   "cell_type": "code",
   "execution_count": 6,
   "id": "b66290a5",
   "metadata": {},
   "outputs": [
    {
     "name": "stdout",
     "output_type": "stream",
     "text": [
      "['alex', 'jim', 'rob', 'sara']\n"
     ]
    }
   ],
   "source": [
    "#append\n",
    "#add single element to end of list\n",
    "name = ['alex','jim','rob']\n",
    "name.append('sara')\n",
    "print(name)"
   ]
  },
  {
   "cell_type": "code",
   "execution_count": 8,
   "id": "b539fbfe",
   "metadata": {},
   "outputs": [
    {
     "name": "stdout",
     "output_type": "stream",
     "text": [
      "[]\n"
     ]
    }
   ],
   "source": [
    "#clear\n",
    "#Remove all items from list\n",
    "name = ['alex','jim','rob']\n",
    "name.clear()\n",
    "print(name)"
   ]
  },
  {
   "cell_type": "code",
   "execution_count": 9,
   "id": "084669ac",
   "metadata": {},
   "outputs": [
    {
     "name": "stdout",
     "output_type": "stream",
     "text": [
      "['alex', 'jim', 'rob']\n"
     ]
    }
   ],
   "source": [
    "#copy\n",
    "#return shallow copy of list\n",
    "name = ['alex','jim','rob']\n",
    "name_first = name.copy()\n",
    "print(name_first)"
   ]
  },
  {
   "cell_type": "code",
   "execution_count": 5,
   "id": "c257abd2",
   "metadata": {},
   "outputs": [
    {
     "name": "stdout",
     "output_type": "stream",
     "text": [
      "1\n"
     ]
    }
   ],
   "source": [
    "#count\n",
    "#return count of an element in list \n",
    "name = ['alex','jim','rob']\n",
    "name_count = name.count('alex')\n",
    "print(name_count)"
   ]
  },
  {
   "cell_type": "code",
   "execution_count": 1,
   "id": "5e700d9d",
   "metadata": {},
   "outputs": [
    {
     "name": "stdout",
     "output_type": "stream",
     "text": [
      "['alex', 'jim', 'rob', 'sonya', 'alla']\n"
     ]
    }
   ],
   "source": [
    "#extend\n",
    "#adds iterable elements to end of list\n",
    "name = ['alex','jim','rob']\n",
    "name.extend(('sonya','alla'))\n",
    "print(name)"
   ]
  },
  {
   "cell_type": "code",
   "execution_count": 4,
   "id": "e85e6e00",
   "metadata": {},
   "outputs": [
    {
     "name": "stdout",
     "output_type": "stream",
     "text": [
      "0\n"
     ]
    }
   ],
   "source": [
    "#index\n",
    "#return index of first element in list matching given value\n",
    "name = ['alex','jim','rob']\n",
    "index_name = name.index('alex')\n",
    "print(index_name)"
   ]
  },
  {
   "cell_type": "code",
   "execution_count": 10,
   "id": "a48252ef",
   "metadata": {},
   "outputs": [
    {
     "name": "stdout",
     "output_type": "stream",
     "text": [
      "['alex', 'jim', 'rob', 'tom']\n"
     ]
    }
   ],
   "source": [
    "#insert\n",
    "#insert element to list at given index\n",
    "name = ['alex','jim','rob']\n",
    "name.insert(3,'tom')\n",
    "print(name)"
   ]
  },
  {
   "cell_type": "code",
   "execution_count": 11,
   "id": "c79e287b",
   "metadata": {},
   "outputs": [
    {
     "name": "stdout",
     "output_type": "stream",
     "text": [
      "['alex', 'rob']\n"
     ]
    }
   ],
   "source": [
    "#pop\n",
    "#remove element at given index and returns it\n",
    "name = ['alex','jim','rob']\n",
    "name.pop(1)\n",
    "print(name)"
   ]
  },
  {
   "cell_type": "code",
   "execution_count": 2,
   "id": "f74b127c",
   "metadata": {},
   "outputs": [
    {
     "name": "stdout",
     "output_type": "stream",
     "text": [
      "['alex', 'rob']\n"
     ]
    }
   ],
   "source": [
    "#remove\n",
    "#remove first item from list that has given value\n",
    "name = ['alex','jim','rob']\n",
    "name.remove('jim')\n",
    "print(name)"
   ]
  },
  {
   "cell_type": "code",
   "execution_count": 12,
   "id": "fa857772",
   "metadata": {},
   "outputs": [
    {
     "name": "stdout",
     "output_type": "stream",
     "text": [
      "['rob', 'jim', 'alex']\n"
     ]
    }
   ],
   "source": [
    "#reverse \n",
    "#reverse the list\n",
    "name = ['alex','jim','rob']\n",
    "name.reverse()\n",
    "print(name)"
   ]
  },
  {
   "cell_type": "code",
   "execution_count": 13,
   "id": "d9b558b3",
   "metadata": {},
   "outputs": [
    {
     "name": "stdout",
     "output_type": "stream",
     "text": [
      "[2, 3, 10, 15]\n"
     ]
    }
   ],
   "source": [
    "#sort\n",
    "#sort elements of a list\n",
    "name = [3, 2, 10, 15]\n",
    "name.sort()\n",
    "print(name)"
   ]
  }
 ],
 "metadata": {
  "kernelspec": {
   "display_name": "Python 3 (ipykernel)",
   "language": "python",
   "name": "python3"
  },
  "language_info": {
   "codemirror_mode": {
    "name": "ipython",
    "version": 3
   },
   "file_extension": ".py",
   "mimetype": "text/x-python",
   "name": "python",
   "nbconvert_exporter": "python",
   "pygments_lexer": "ipython3",
   "version": "3.11.1"
  }
 },
 "nbformat": 4,
 "nbformat_minor": 5
}
