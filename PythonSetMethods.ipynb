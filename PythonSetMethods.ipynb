{
 "cells": [
  {
   "cell_type": "code",
   "execution_count": 2,
   "id": "9965e1d0",
   "metadata": {},
   "outputs": [
    {
     "data": {
      "text/plain": [
       "{'alex', 'anna', 'kate', 'olga'}"
      ]
     },
     "execution_count": 2,
     "metadata": {},
     "output_type": "execute_result"
    }
   ],
   "source": [
    "#add\n",
    "x = {'alex','olga','kate'}\n",
    "x.add('anna')\n",
    "x"
   ]
  },
  {
   "cell_type": "code",
   "execution_count": 3,
   "id": "8445b301",
   "metadata": {},
   "outputs": [
    {
     "data": {
      "text/plain": [
       "set()"
      ]
     },
     "execution_count": 3,
     "metadata": {},
     "output_type": "execute_result"
    }
   ],
   "source": [
    "#clear\n",
    "c = {'emmna','mike'}\n",
    "c.clear()\n",
    "c"
   ]
  },
  {
   "cell_type": "code",
   "execution_count": 4,
   "id": "d85d2973",
   "metadata": {},
   "outputs": [
    {
     "data": {
      "text/plain": [
       "{'alex', 'anna', 'kate', 'olga'}"
      ]
     },
     "execution_count": 4,
     "metadata": {},
     "output_type": "execute_result"
    }
   ],
   "source": [
    "#copy\n",
    "y = x.copy()\n",
    "y"
   ]
  },
  {
   "cell_type": "code",
   "execution_count": 5,
   "id": "8ba3145f",
   "metadata": {},
   "outputs": [
    {
     "data": {
      "text/plain": [
       "{'Cat'}"
      ]
     },
     "execution_count": 5,
     "metadata": {},
     "output_type": "execute_result"
    }
   ],
   "source": [
    "#difference\n",
    "x = {'alex', 'anna', 'kate', 'olga'}\n",
    "y = {'alex', 'anna', 'Cat', 'olga'}\n",
    "z = y.difference(x)\n",
    "z"
   ]
  },
  {
   "cell_type": "code",
   "execution_count": 6,
   "id": "ef32fd03",
   "metadata": {},
   "outputs": [
    {
     "data": {
      "text/plain": [
       "{'kate'}"
      ]
     },
     "execution_count": 6,
     "metadata": {},
     "output_type": "execute_result"
    }
   ],
   "source": [
    "#difference_update ???\n",
    "x = {'alex', 'anna', 'kate', 'olga'}\n",
    "y = {'alex', 'anna', 'Cat', 'olga'}\n",
    "x.difference_update(y)\n",
    "x"
   ]
  },
  {
   "cell_type": "code",
   "execution_count": 7,
   "id": "bbf9e25b",
   "metadata": {},
   "outputs": [
    {
     "data": {
      "text/plain": [
       "{'anna', 'kate', 'olga'}"
      ]
     },
     "execution_count": 7,
     "metadata": {},
     "output_type": "execute_result"
    }
   ],
   "source": [
    "#discard\n",
    "x = {'alex', 'anna', 'kate', 'olga'}\n",
    "x.discard('alex')\n",
    "x"
   ]
  },
  {
   "cell_type": "code",
   "execution_count": 8,
   "id": "93ce2ee3",
   "metadata": {},
   "outputs": [
    {
     "data": {
      "text/plain": [
       "{'alex', 'anna', 'olga'}"
      ]
     },
     "execution_count": 8,
     "metadata": {},
     "output_type": "execute_result"
    }
   ],
   "source": [
    "#intersection\n",
    "x = {'alex', 'anna', 'kate', 'olga'}\n",
    "y = {'alex', 'anna', 'Cat', 'olga'}\n",
    "z = x.intersection(y)\n",
    "z"
   ]
  },
  {
   "cell_type": "code",
   "execution_count": 10,
   "id": "6549a0a9",
   "metadata": {},
   "outputs": [
    {
     "data": {
      "text/plain": [
       "{'alex', 'anna', 'olga'}"
      ]
     },
     "execution_count": 10,
     "metadata": {},
     "output_type": "execute_result"
    }
   ],
   "source": [
    "#intersection_update\n",
    "x = {'alex', 'anna', 'kate', 'olga'}\n",
    "y = {'alex', 'anna', 'Cat', 'olga'}\n",
    "x.intersection_update(y)\n",
    "x"
   ]
  },
  {
   "cell_type": "code",
   "execution_count": 11,
   "id": "b7e37393",
   "metadata": {},
   "outputs": [
    {
     "data": {
      "text/plain": [
       "False"
      ]
     },
     "execution_count": 11,
     "metadata": {},
     "output_type": "execute_result"
    }
   ],
   "source": [
    "#isdisjoint\n",
    "x = {'alex', 'anna', 'kate', 'olga'}\n",
    "y = {'alex', 'anna', 'Cat', 'olga'}\n",
    "z = x.isdisjoint(y)\n",
    "z"
   ]
  },
  {
   "cell_type": "code",
   "execution_count": 13,
   "id": "ffa52a95",
   "metadata": {},
   "outputs": [
    {
     "data": {
      "text/plain": [
       "True"
      ]
     },
     "execution_count": 13,
     "metadata": {},
     "output_type": "execute_result"
    }
   ],
   "source": [
    "#issubset\n",
    "x = {'alex', 'anna'}\n",
    "y = {'alex', 'anna'}\n",
    "z = x.issubset(y)\n",
    "z"
   ]
  },
  {
   "cell_type": "code",
   "execution_count": 14,
   "id": "46c41eb6",
   "metadata": {},
   "outputs": [
    {
     "data": {
      "text/plain": [
       "False"
      ]
     },
     "execution_count": 14,
     "metadata": {},
     "output_type": "execute_result"
    }
   ],
   "source": [
    "#issuperset\n",
    "x = {'alex', 'anna', 'set'}\n",
    "y = {'alex', 'anna', 'like'}\n",
    "z = x.issuperset(y)\n",
    "z"
   ]
  },
  {
   "cell_type": "code",
   "execution_count": 26,
   "id": "2f02affd",
   "metadata": {},
   "outputs": [
    {
     "name": "stdout",
     "output_type": "stream",
     "text": [
      "{'set', 'ale'}\n",
      "anna\n"
     ]
    }
   ],
   "source": [
    "#pop\n",
    "x = {'ale', 'anna', 'set'}\n",
    "y = x.pop()\n",
    "print(x)\n",
    "print(y)"
   ]
  },
  {
   "cell_type": "code",
   "execution_count": 15,
   "id": "34c2ee77",
   "metadata": {},
   "outputs": [
    {
     "data": {
      "text/plain": [
       "{'anna', 'set'}"
      ]
     },
     "execution_count": 15,
     "metadata": {},
     "output_type": "execute_result"
    }
   ],
   "source": [
    "#remove\n",
    "x = {'alex', 'anna', 'set'}\n",
    "x.remove('alex')\n",
    "x"
   ]
  },
  {
   "cell_type": "code",
   "execution_count": 16,
   "id": "a395fc26",
   "metadata": {},
   "outputs": [
    {
     "data": {
      "text/plain": [
       "{'like', 'set'}"
      ]
     },
     "execution_count": 16,
     "metadata": {},
     "output_type": "execute_result"
    }
   ],
   "source": [
    "#symmetric_difference\n",
    "x = {'alex', 'anna', 'set'}\n",
    "y = {'alex', 'anna', 'like'}\n",
    "z = x.symmetric_difference(y)\n",
    "z"
   ]
  },
  {
   "cell_type": "code",
   "execution_count": 17,
   "id": "13fcd5a0",
   "metadata": {},
   "outputs": [
    {
     "data": {
      "text/plain": [
       "{'like', 'set'}"
      ]
     },
     "execution_count": 17,
     "metadata": {},
     "output_type": "execute_result"
    }
   ],
   "source": [
    "#symmetric_difference_update\n",
    "x = {'alex', 'anna', 'set'}\n",
    "y = {'alex', 'anna', 'like'}\n",
    "x.symmetric_difference_update(y)\n",
    "x"
   ]
  },
  {
   "cell_type": "code",
   "execution_count": 18,
   "id": "87ce48e2",
   "metadata": {},
   "outputs": [
    {
     "data": {
      "text/plain": [
       "{'alex', 'anna', 'like', 'set'}"
      ]
     },
     "execution_count": 18,
     "metadata": {},
     "output_type": "execute_result"
    }
   ],
   "source": [
    "#union\n",
    "x = {'alex', 'anna', 'set'}\n",
    "y = {'alex', 'anna', 'like'}\n",
    "z = x.union(y)\n",
    "z"
   ]
  },
  {
   "cell_type": "code",
   "execution_count": 19,
   "id": "c2a1805f",
   "metadata": {},
   "outputs": [
    {
     "data": {
      "text/plain": [
       "{'alex', 'anna', 'like', 'set'}"
      ]
     },
     "execution_count": 19,
     "metadata": {},
     "output_type": "execute_result"
    }
   ],
   "source": [
    "#update\n",
    "x = {'alex', 'anna', 'set'}\n",
    "y = {'alex', 'anna', 'like'}\n",
    "x.update(y)\n",
    "x"
   ]
  }
 ],
 "metadata": {
  "kernelspec": {
   "display_name": "Python 3 (ipykernel)",
   "language": "python",
   "name": "python3"
  },
  "language_info": {
   "codemirror_mode": {
    "name": "ipython",
    "version": 3
   },
   "file_extension": ".py",
   "mimetype": "text/x-python",
   "name": "python",
   "nbconvert_exporter": "python",
   "pygments_lexer": "ipython3",
   "version": "3.11.1"
  }
 },
 "nbformat": 4,
 "nbformat_minor": 5
}
